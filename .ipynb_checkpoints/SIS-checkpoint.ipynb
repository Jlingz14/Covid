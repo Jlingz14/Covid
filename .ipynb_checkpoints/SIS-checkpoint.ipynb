{
 "cells": [
  {
   "cell_type": "code",
   "execution_count": 4,
   "metadata": {},
   "outputs": [
    {
     "name": "stdout",
     "output_type": "stream",
     "text": [
      "Using matplotlib backend: Qt5Agg\n"
     ]
    }
   ],
   "source": [
    "import numpy as np\n",
    "import random\n",
    "import matplotlib.pyplot as plt\n",
    "import seaborn as sns\n",
    "sns.set_style(\"darkgrid\")\n",
    "%matplotlib"
   ]
  },
  {
   "cell_type": "code",
   "execution_count": 9,
   "metadata": {},
   "outputs": [
    {
     "data": {
      "text/plain": [
       "[<matplotlib.lines.Line2D at 0x7f1a906bab90>]"
      ]
     },
     "execution_count": 9,
     "metadata": {},
     "output_type": "execute_result"
    }
   ],
   "source": [
    "def simulation_discret(N=100,beta=1,gamma=0.25,b=0.25,dt=0.01,temps=2000,i0=2):\n",
    "    P=np.zeros((N+1,N+1),dtype=float)\n",
    "    P[0,0]=1\n",
    "    P[N,N-1]=(b+gamma)*N*dt\n",
    "    P[N,N]=1-P[N-1,N-2]\n",
    "    for i in range(1,N-1):\n",
    "        P[i,i+1] = beta*i*(N-i)*(dt/N)\n",
    "        P[i,i-1] = (b+gamma)*i*dt\n",
    "        P[i,i] = 1.0 -(P[i,i+1] + P[i,i-1])\n",
    "    \n",
    "    n_etat = [i for i in range(N+1)]\n",
    "    I=[i0]\n",
    "    for k in np.arange(1.0,2000,1):\n",
    "        rand = np.random.choice(n_etat,p=P[I[-1],:])\n",
    "        etat0 = np.zeros((N+1))\n",
    "        etat0[rand] = 1\n",
    "        next_etat = np.argmax(etat0.dot(P))\n",
    "        I.append(next_etat)\n",
    "    return I\n",
    "\n",
    "sim1 = simulation_discret() \n",
    "sim2 = simulation_discret()\n",
    "plt.figure(figsize=(8,5))\n",
    "plt.plot(sim1)\n",
    "plt.plot(sim2)"
   ]
  },
  {
   "cell_type": "code",
   "execution_count": 7,
   "metadata": {},
   "outputs": [
    {
     "data": {
      "text/plain": [
       "[<matplotlib.lines.Line2D at 0x7f1a90a8d1d0>]"
      ]
     },
     "execution_count": 7,
     "metadata": {},
     "output_type": "execute_result"
    }
   ],
   "source": [
    "def simulation_continue(N=100,beta=1,gamma=0.25,b=0.25,dt=0.01,temps=2000,i0=2): \n",
    "    t = np.zeros((temps)) \n",
    "    S = np.zeros((temps))\n",
    "    I = np.zeros((temps)) \n",
    "    S[0] = N-i0\n",
    "    I[0] = i0\n",
    "    t[0] = 0\n",
    "    i = 0 \n",
    "    while I[i] > 0 and i < (temps-1): \n",
    "        U1 = np.random.rand() \n",
    "        U2 = np.random.rand() \n",
    "        a=(beta/N)*I[i]*S[i]+(b+gamma)*I[i]\n",
    "        probi = (beta*S[i]/N)/((beta*S[i]/N) +(b+gamma)) \n",
    "        h = - np.log(U1)/a\n",
    "        t[i+1] = t[i] + h           \n",
    "        if U2 <= probi: \n",
    "            S[i+1] = S[i] - 1  \n",
    "            I[i+1] = I[i] + 1\n",
    "            \n",
    "        else:                 \n",
    "            S[i+1] = S[i] + 1 \n",
    "            I[i+1] = I[i] - 1\n",
    "\n",
    "        i += 1\n",
    "        \n",
    "    return S,I\n",
    "S,I = simulation_continue()\n",
    "S1,I1 = simulation_continue()\n",
    "plt.figure(figsize=(8,5))\n",
    "plt.plot(I)\n",
    "plt.plot(I1)"
   ]
  },
  {
   "cell_type": "code",
   "execution_count": 8,
   "metadata": {},
   "outputs": [],
   "source": [
    "class reed_forest:\n",
    "    def __init__(self, S_initial, I_initial, R_initial):\n",
    "        self.S_liste = [S_initial] \n",
    "        self.I_liste = [I_initial]\n",
    "        self.R_liste = [R_initial]\n",
    "        \n",
    "    def graphe(self,n_temps,p):  \n",
    "        self.propabilite = p\n",
    "        S_liste = self.S_liste\n",
    "        I_liste = self.I_liste\n",
    "        R_liste = self.R_liste\n",
    "        temps = range(0,n_temps,1) \n",
    "        self.temps = temps\n",
    "        for i in range(len(temps)-1):\n",
    "            I_liste.append((1-(1-p)**I_liste[i])*S_liste[i])\n",
    "            S_liste.append(S_liste[i] - I_liste[i+1])\n",
    "            R_liste.append(R_liste[i] + I_liste[i])\n",
    "       \n",
    "        plt.figure()\n",
    "        plt.plot(temps,S_liste,label='Sain')\n",
    "        plt.plot(temps,I_liste,label='Infecté')\n",
    "        plt.plot(temps,R_liste,label='Gueri')\n",
    "        plt.legend()\n",
    "        return plt.show()\n",
    "\n",
    "model1 = reed_forest(1000,1,0)\n",
    "model1.graphe(25,0.005)"
   ]
  },
  {
   "cell_type": "code",
   "execution_count": null,
   "metadata": {},
   "outputs": [],
   "source": []
  }
 ],
 "metadata": {
  "kernelspec": {
   "display_name": "Python 3",
   "language": "python",
   "name": "python3"
  },
  "language_info": {
   "codemirror_mode": {
    "name": "ipython",
    "version": 3
   },
   "file_extension": ".py",
   "mimetype": "text/x-python",
   "name": "python",
   "nbconvert_exporter": "python",
   "pygments_lexer": "ipython3",
   "version": "3.7.6"
  }
 },
 "nbformat": 4,
 "nbformat_minor": 4
}
