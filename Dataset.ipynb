{
 "cells": [
  {
   "cell_type": "code",
   "execution_count": 1,
   "metadata": {},
   "outputs": [],
   "source": [
    "import pandas as pd\n",
    "import numpy as np\n",
    "import matplotlib.pyplot as plt\n",
    "from scipy import integrate, optimize\n",
    "import warnings\n",
    "warnings.filterwarnings('ignore')"
   ]
  },
  {
   "cell_type": "code",
   "execution_count": 2,
   "metadata": {},
   "outputs": [],
   "source": [
    "data = pd.read_csv(\"full_grouped.csv\")\n",
    "data.rename(columns={'New cases':'New_cases'},inplace=True)\n",
    "data.rename(columns={'New deaths':'New_deaths'},inplace=True)\n",
    "data.rename(columns={'New recovered':'New_recovered'},inplace=True)\n",
    "\n",
    "data_df = pd.DataFrame()\n",
    "data_df['Confirmé'] = data.loc[data['Country/Region']=='Spain'].New_cases\n",
    "data_df['Guerri'] = data.loc[data['Country/Region']=='Spain'].Recovered\n",
    "data_df['mor'] = data.loc[data['Country/Region']=='Spain'].Deaths\n",
    "\n",
    "data_df = data_df[10:]\n",
    "data_df['day_count'] = list(range(1,len(data_df)+1))\n",
    "\n",
    "ydata = [i for i in data_df.Confirmé]\n",
    "ydata1 = [i for i in data_df.Guerri]\n",
    "ydata2 = [i for i in data_df.mor]\n",
    "\n",
    "xdata = data_df.day_count\n",
    "y = np.array(ydata, dtype=float)\n",
    "y1 = np.array(ydata1, dtype=float)\n",
    "y2 = np.array(ydata2, dtype=float)\n",
    "x = np.array(xdata, dtype=float)"
   ]
  },
  {
   "cell_type": "code",
   "execution_count": 3,
   "metadata": {},
   "outputs": [
    {
     "data": {
      "text/html": [
       "<div>\n",
       "<style scoped>\n",
       "    .dataframe tbody tr th:only-of-type {\n",
       "        vertical-align: middle;\n",
       "    }\n",
       "\n",
       "    .dataframe tbody tr th {\n",
       "        vertical-align: top;\n",
       "    }\n",
       "\n",
       "    .dataframe thead th {\n",
       "        text-align: right;\n",
       "    }\n",
       "</style>\n",
       "<table border=\"1\" class=\"dataframe\">\n",
       "  <thead>\n",
       "    <tr style=\"text-align: right;\">\n",
       "      <th></th>\n",
       "      <th>Date</th>\n",
       "      <th>Country/Region</th>\n",
       "      <th>Confirmed</th>\n",
       "      <th>Deaths</th>\n",
       "      <th>Recovered</th>\n",
       "      <th>Active</th>\n",
       "      <th>New_cases</th>\n",
       "      <th>New_deaths</th>\n",
       "      <th>New_recovered</th>\n",
       "      <th>WHO Region</th>\n",
       "    </tr>\n",
       "  </thead>\n",
       "  <tbody>\n",
       "    <tr>\n",
       "      <th>0</th>\n",
       "      <td>2020-01-22</td>\n",
       "      <td>Afghanistan</td>\n",
       "      <td>0</td>\n",
       "      <td>0</td>\n",
       "      <td>0</td>\n",
       "      <td>0</td>\n",
       "      <td>0</td>\n",
       "      <td>0</td>\n",
       "      <td>0</td>\n",
       "      <td>Eastern Mediterranean</td>\n",
       "    </tr>\n",
       "    <tr>\n",
       "      <th>1</th>\n",
       "      <td>2020-01-22</td>\n",
       "      <td>Albania</td>\n",
       "      <td>0</td>\n",
       "      <td>0</td>\n",
       "      <td>0</td>\n",
       "      <td>0</td>\n",
       "      <td>0</td>\n",
       "      <td>0</td>\n",
       "      <td>0</td>\n",
       "      <td>Europe</td>\n",
       "    </tr>\n",
       "    <tr>\n",
       "      <th>2</th>\n",
       "      <td>2020-01-22</td>\n",
       "      <td>Algeria</td>\n",
       "      <td>0</td>\n",
       "      <td>0</td>\n",
       "      <td>0</td>\n",
       "      <td>0</td>\n",
       "      <td>0</td>\n",
       "      <td>0</td>\n",
       "      <td>0</td>\n",
       "      <td>Africa</td>\n",
       "    </tr>\n",
       "    <tr>\n",
       "      <th>3</th>\n",
       "      <td>2020-01-22</td>\n",
       "      <td>Andorra</td>\n",
       "      <td>0</td>\n",
       "      <td>0</td>\n",
       "      <td>0</td>\n",
       "      <td>0</td>\n",
       "      <td>0</td>\n",
       "      <td>0</td>\n",
       "      <td>0</td>\n",
       "      <td>Europe</td>\n",
       "    </tr>\n",
       "    <tr>\n",
       "      <th>4</th>\n",
       "      <td>2020-01-22</td>\n",
       "      <td>Angola</td>\n",
       "      <td>0</td>\n",
       "      <td>0</td>\n",
       "      <td>0</td>\n",
       "      <td>0</td>\n",
       "      <td>0</td>\n",
       "      <td>0</td>\n",
       "      <td>0</td>\n",
       "      <td>Africa</td>\n",
       "    </tr>\n",
       "    <tr>\n",
       "      <th>...</th>\n",
       "      <td>...</td>\n",
       "      <td>...</td>\n",
       "      <td>...</td>\n",
       "      <td>...</td>\n",
       "      <td>...</td>\n",
       "      <td>...</td>\n",
       "      <td>...</td>\n",
       "      <td>...</td>\n",
       "      <td>...</td>\n",
       "      <td>...</td>\n",
       "    </tr>\n",
       "    <tr>\n",
       "      <th>28606</th>\n",
       "      <td>2020-06-22</td>\n",
       "      <td>West Bank and Gaza</td>\n",
       "      <td>1001</td>\n",
       "      <td>3</td>\n",
       "      <td>442</td>\n",
       "      <td>556</td>\n",
       "      <td>168</td>\n",
       "      <td>0</td>\n",
       "      <td>3</td>\n",
       "      <td>Eastern Mediterranean</td>\n",
       "    </tr>\n",
       "    <tr>\n",
       "      <th>28607</th>\n",
       "      <td>2020-06-22</td>\n",
       "      <td>Western Sahara</td>\n",
       "      <td>10</td>\n",
       "      <td>1</td>\n",
       "      <td>8</td>\n",
       "      <td>1</td>\n",
       "      <td>1</td>\n",
       "      <td>0</td>\n",
       "      <td>0</td>\n",
       "      <td>Africa</td>\n",
       "    </tr>\n",
       "    <tr>\n",
       "      <th>28608</th>\n",
       "      <td>2020-06-22</td>\n",
       "      <td>Yemen</td>\n",
       "      <td>967</td>\n",
       "      <td>257</td>\n",
       "      <td>350</td>\n",
       "      <td>360</td>\n",
       "      <td>26</td>\n",
       "      <td>1</td>\n",
       "      <td>3</td>\n",
       "      <td>Eastern Mediterranean</td>\n",
       "    </tr>\n",
       "    <tr>\n",
       "      <th>28609</th>\n",
       "      <td>2020-06-22</td>\n",
       "      <td>Zambia</td>\n",
       "      <td>1430</td>\n",
       "      <td>11</td>\n",
       "      <td>1194</td>\n",
       "      <td>225</td>\n",
       "      <td>0</td>\n",
       "      <td>0</td>\n",
       "      <td>0</td>\n",
       "      <td>Africa</td>\n",
       "    </tr>\n",
       "    <tr>\n",
       "      <th>28610</th>\n",
       "      <td>2020-06-22</td>\n",
       "      <td>Zimbabwe</td>\n",
       "      <td>512</td>\n",
       "      <td>6</td>\n",
       "      <td>64</td>\n",
       "      <td>442</td>\n",
       "      <td>23</td>\n",
       "      <td>0</td>\n",
       "      <td>0</td>\n",
       "      <td>Africa</td>\n",
       "    </tr>\n",
       "  </tbody>\n",
       "</table>\n",
       "<p>28611 rows × 10 columns</p>\n",
       "</div>"
      ],
      "text/plain": [
       "             Date      Country/Region  Confirmed  Deaths  Recovered  Active  \\\n",
       "0      2020-01-22         Afghanistan          0       0          0       0   \n",
       "1      2020-01-22             Albania          0       0          0       0   \n",
       "2      2020-01-22             Algeria          0       0          0       0   \n",
       "3      2020-01-22             Andorra          0       0          0       0   \n",
       "4      2020-01-22              Angola          0       0          0       0   \n",
       "...           ...                 ...        ...     ...        ...     ...   \n",
       "28606  2020-06-22  West Bank and Gaza       1001       3        442     556   \n",
       "28607  2020-06-22      Western Sahara         10       1          8       1   \n",
       "28608  2020-06-22               Yemen        967     257        350     360   \n",
       "28609  2020-06-22              Zambia       1430      11       1194     225   \n",
       "28610  2020-06-22            Zimbabwe        512       6         64     442   \n",
       "\n",
       "       New_cases  New_deaths  New_recovered             WHO Region  \n",
       "0              0           0              0  Eastern Mediterranean  \n",
       "1              0           0              0                 Europe  \n",
       "2              0           0              0                 Africa  \n",
       "3              0           0              0                 Europe  \n",
       "4              0           0              0                 Africa  \n",
       "...          ...         ...            ...                    ...  \n",
       "28606        168           0              3  Eastern Mediterranean  \n",
       "28607          1           0              0                 Africa  \n",
       "28608         26           1              3  Eastern Mediterranean  \n",
       "28609          0           0              0                 Africa  \n",
       "28610         23           0              0                 Africa  \n",
       "\n",
       "[28611 rows x 10 columns]"
      ]
     },
     "execution_count": 3,
     "metadata": {},
     "output_type": "execute_result"
    }
   ],
   "source": [
    "data"
   ]
  },
  {
   "cell_type": "code",
   "execution_count": 4,
   "metadata": {},
   "outputs": [],
   "source": [
    "population = float(46750238)\n",
    "N = population\n",
    "inf0 = ydata[0]\n",
    "sus0 = N - inf0\n",
    "rec0 = 0.0\n",
    "mor0 = 0.0"
   ]
  },
  {
   "cell_type": "code",
   "execution_count": 5,
   "metadata": {},
   "outputs": [
    {
     "name": "stdout",
     "output_type": "stream",
     "text": [
      "Optimal parameters: beta = 0.39307177757663486  and p =  0.9992330417290564\n"
     ]
    }
   ],
   "source": [
    "def sir_model(y, x, beta, p):\n",
    "    S,I,R,D = y\n",
    "    sus = -beta * S * I/ N\n",
    "    inf = (beta * S * I/ N) - (p*0.05 * I) - ((1-p)*0.04 * I)\n",
    "    rec = p*0.05 * I\n",
    "    mor = (1-p)*0.04 * I\n",
    "    return sus, inf, rec,mor\n",
    "\n",
    "def fit_odeint(x, beta, p):\n",
    "    return integrate.odeint(sir_model, (sus0, inf0, rec0,mor0), x, args=(beta, p))[:,3]\n",
    "\n",
    "popt, pcov = optimize.curve_fit(fit_odeint, x, y2)\n",
    "fitted = fit_odeint(xdata, *popt)\n",
    "print(\"Optimal parameters: beta =\", popt[0], \" and p = \", popt[1])"
   ]
  },
  {
   "cell_type": "code",
   "execution_count": 6,
   "metadata": {},
   "outputs": [
    {
     "data": {
      "text/plain": [
       "[<matplotlib.lines.Line2D at 0x7fb13e9fc290>]"
      ]
     },
     "execution_count": 6,
     "metadata": {},
     "output_type": "execute_result"
    },
    {
     "data": {
      "image/png": "[encoded data removed]",
      "text/plain": [
       "<Figure size 720x360 with 1 Axes>"
      ]
     },
     "metadata": {
      "needs_background": "light"
     },
     "output_type": "display_data"
    }
   ],
   "source": [
    "plt.figure(figsize=(10,5))\n",
    "plt.plot(x, y2, 'o')\n",
    "plt.plot(x, fitted)"
   ]
  },
  {
   "cell_type": "code",
   "execution_count": 11,
   "metadata": {},
   "outputs": [
    {
     "name": "stdout",
     "output_type": "stream",
     "text": [
      "Using matplotlib backend: Qt5Agg\n"
     ]
    },
    {
     "data": {
      "text/plain": [
       "<matplotlib.axes._subplots.AxesSubplot at 0x7fb1346c6550>"
      ]
     },
     "execution_count": 11,
     "metadata": {},
     "output_type": "execute_result"
    }
   ],
   "source": [
    "%matplotlib\n",
    "confirme = data.groupby(['Date']).agg({'Confirmed':['sum']})\n",
    "guerri = data.groupby(['Date']).agg({'Recovered':['sum']})\n",
    "mort = data.groupby(['Date']).agg({'Deaths':['sum']})\n",
    "\n",
    "fig ,(ax1,ax2)= plt.subplots(1,2, figsize=(25,6))\n",
    "confirme.plot(ax=ax1,color='red')\n",
    "guerri.plot(ax=ax1,color='green')\n",
    "mort.plot(ax=ax2,color='black')"
   ]
  },
  {
   "cell_type": "code",
   "execution_count": 12,
   "metadata": {},
   "outputs": [
    {
     "data": {
      "text/plain": [
       "<matplotlib.legend.Legend at 0x7fb134202550>"
      ]
     },
     "execution_count": 12,
     "metadata": {},
     "output_type": "execute_result"
    }
   ],
   "source": [
    "df_mada = pd.DataFrame()\n",
    "df_mada['Date'] = data.loc[data['Country/Region']=='Madagascar'].Date\n",
    "df_mada['Confirmé'] = data.loc[data['Country/Region']=='Madagascar'].Confirmed\n",
    "df_mada['Guerrison'] = data.loc[data['Country/Region']=='Madagascar'].Recovered\n",
    "df_mada['Mortalite'] = data.loc[data['Country/Region']=='Madagascar'].Deaths\n",
    "df_mada['Nouveau_cas'] = data.loc[data['Country/Region']=='Madagascar'].New_cases\n",
    "df_mada['cas_Guerri'] = data.loc[data['Country/Region']=='Madagascar'].New_recovered.abs()\n",
    "df_mada['cas_mor'] = data.loc[data['Country/Region']=='Madagascar'].New_deaths\n",
    "df_mada.Date = pd.to_datetime(df_mada.Date)\n",
    "df_mada = df_mada.set_index('Date')\n",
    "df_mada = df_mada[50:]\n",
    "\n",
    "plt.figure(figsize=(20,7))\n",
    "plt.subplot(2,2,1)\n",
    "plt.bar(df_mada.index,df_mada['Nouveau_cas'],color='red',label='Cas journalier')\n",
    "plt.legend()\n",
    "\n",
    "plt.subplot(2,2,2)\n",
    "plt.plot(df_mada.index,df_mada['Confirmé'],color='red',label='Cas confirmé')\n",
    "plt.plot(df_mada.index,df_mada['Guerrison'],color='green',label='Guerrison cumulé')\n",
    "plt.plot(df_mada.index,df_mada['Mortalite'],color='black',label='Mort cumulé')\n",
    "plt.legend()\n",
    "\n",
    "plt.subplot(2,2,3)\n",
    "plt.bar(df_mada.index,df_mada['cas_Guerri'],color='green',label='Cas de guerrison journalier')\n",
    "plt.legend()\n",
    "\n",
    "plt.subplot(2,2,4)\n",
    "plt.bar(df_mada.index,df_mada['cas_mor'],color='black',label='Cas de mortalité journalier')\n",
    "plt.legend()"
   ]
  },
  {
   "cell_type": "code",
   "execution_count": 13,
   "metadata": {},
   "outputs": [
    {
     "data": {
      "text/plain": [
       "<matplotlib.legend.Legend at 0x7fb12cf015d0>"
      ]
     },
     "execution_count": 13,
     "metadata": {},
     "output_type": "execute_result"
    }
   ],
   "source": [
    "df_Italy = pd.DataFrame()\n",
    "df_Italy['Date'] = data.loc[data['Country/Region']=='Italy'].Date\n",
    "df_Italy['Confirmé'] = data.loc[data['Country/Region']=='Italy'].Confirmed\n",
    "df_Italy['Guerrison'] = data.loc[data['Country/Region']=='Italy'].Recovered\n",
    "df_Italy['Mortalite'] = data.loc[data['Country/Region']=='Italy'].Deaths\n",
    "df_Italy['Nouveau_cas'] = data.loc[data['Country/Region']=='Italy'].New_cases\n",
    "df_Italy['cas_Guerri'] = data.loc[data['Country/Region']=='Italy'].New_recovered.abs()\n",
    "df_Italy['cas_mor'] = data.loc[data['Country/Region']=='Italy'].New_deaths\n",
    "df_Italy.Date = pd.to_datetime(df_Italy.Date)\n",
    "df_Italy = df_Italy.set_index('Date')\n",
    "\n",
    "plt.figure(figsize=(20,7))\n",
    "plt.subplot(2,2,1)\n",
    "plt.bar(df_Italy.index,df_Italy['Nouveau_cas'],color='red',label='Cas journalier')\n",
    "plt.legend()\n",
    "\n",
    "plt.subplot(2,2,2)\n",
    "plt.plot(df_Italy.index,df_Italy['Confirmé'],color='red',label='Cas confirmé')\n",
    "plt.plot(df_Italy.index,df_Italy['Guerrison'],color='green',label='Guerrison cumulé')\n",
    "plt.plot(df_Italy.index,df_Italy['Mortalite'],color='black',label='Mort cumulé')\n",
    "plt.legend()\n",
    "\n",
    "plt.subplot(2,2,3)\n",
    "plt.bar(df_Italy.index,df_Italy['cas_Guerri'],color='green',label='Cas de guerrison journalier')\n",
    "plt.legend()\n",
    "\n",
    "plt.subplot(2,2,4)\n",
    "plt.bar(df_Italy.index,df_Italy['cas_mor'],color='black',label='Cas de mortalité journalier')\n",
    "plt.legend()"
   ]
  },
  {
   "cell_type": "code",
   "execution_count": 10,
   "metadata": {},
   "outputs": [
    {
     "data": {
      "text/plain": [
       "<matplotlib.legend.Legend at 0x7fb13cdbb9d0>"
      ]
     },
     "execution_count": 10,
     "metadata": {},
     "output_type": "execute_result"
    },
    {
     "data": {
      "image/png": "[encoded data removed]",
      "text/plain": [
       "<Figure size 1440x504 with 4 Axes>"
      ]
     },
     "metadata": {
      "needs_background": "light"
     },
     "output_type": "display_data"
    }
   ],
   "source": [
    "df_China = pd.DataFrame()\n",
    "df_China['Date'] = data.loc[data['Country/Region']=='China'].Date\n",
    "df_China['Confirmé'] = data.loc[data['Country/Region']=='China'].Confirmed\n",
    "df_China['Guerrison'] = data.loc[data['Country/Region']=='China'].Recovered\n",
    "df_China['Mortalite'] = data.loc[data['Country/Region']=='China'].Deaths\n",
    "df_China['Nouveau_cas'] = data.loc[data['Country/Region']=='China'].New_cases\n",
    "df_China['cas_Guerri'] = data.loc[data['Country/Region']=='China'].New_recovered.abs()\n",
    "df_China['cas_mor'] = data.loc[data['Country/Region']=='China'].New_deaths\n",
    "df_China.Date = pd.to_datetime(df_China.Date)\n",
    "df_China = df_China.set_index('Date')\n",
    "\n",
    "plt.figure(figsize=(20,7))\n",
    "plt.subplot(2,2,1)\n",
    "plt.bar(df_China.index,df_China['Nouveau_cas'],color='red',label='Cas journalier')\n",
    "plt.legend()\n",
    "\n",
    "plt.subplot(2,2,2)\n",
    "plt.plot(df_China.index,df_China['Confirmé'],color='red',label='Cas confirmé')\n",
    "plt.plot(df_China.index,df_China['Guerrison'],color='green',label='Guerrison cumulé')\n",
    "plt.plot(df_China.index,df_China['Mortalite'],color='black',label='Mort cumulé')\n",
    "plt.legend()\n",
    "\n",
    "plt.subplot(2,2,3)\n",
    "plt.bar(df_China.index,df_China['cas_Guerri'],color='green',label='Cas de guerrison journalier')\n",
    "plt.legend()\n",
    "\n",
    "plt.subplot(2,2,4)\n",
    "plt.bar(df_China.index,df_China['cas_mor'],color='black',label='Cas de mortalité journalier')\n",
    "plt.legend()"
   ]
  },
  {
   "cell_type": "code",
   "execution_count": null,
   "metadata": {},
   "outputs": [],
   "source": []
  }
 ],
 "metadata": {
  "kernelspec": {
   "display_name": "Python 3",
   "language": "python",
   "name": "python3"
  },
  "language_info": {
   "codemirror_mode": {
    "name": "ipython",
    "version": 3
   },
   "file_extension": ".py",
   "mimetype": "text/x-python",
   "name": "python",
   "nbconvert_exporter": "python",
   "pygments_lexer": "ipython3",
   "version": "3.7.6"
  }
 },
 "nbformat": 4,
 "nbformat_minor": 4
}
