{
 "cells": [
  {
   "cell_type": "code",
   "execution_count": 1,
   "metadata": {},
   "outputs": [],
   "source": [
    "import numpy as np\n",
    "import matplotlib.pyplot as plt\n",
    "import pandas as pd\n",
    "from sklearn.linear_model import LinearRegression\n",
    "from sklearn.preprocessing import PolynomialFeatures\n",
    "from pandas.tseries.offsets import DateOffset\n",
    "import time\n",
    "import seaborn as sns\n",
    "sns.set_style(\"darkgrid\")"
   ]
  },
  {
   "cell_type": "code",
   "execution_count": 2,
   "metadata": {},
   "outputs": [],
   "source": [
    "data = pd.read_csv(\"full_grouped.csv\")\n",
    "data.rename(columns={'New cases':'New_cases'},inplace=True)\n",
    "data.rename(columns={'New deaths':'New_deaths'},inplace=True)\n",
    "data.rename(columns={'New recovered':'New_recovered'},inplace=True)\n",
    "\n",
    "data_df = pd.DataFrame()\n",
    "data_df['Date'] = data.loc[data['Country/Region']=='Madagascar'].Date\n",
    "data_df['Confirmé'] = data.loc[data['Country/Region']=='Madagascar'].New_cases\n",
    "data_df['mor'] = data.loc[data['Country/Region']=='Madagascar'].Deaths\n",
    "data_df.Date = pd.to_datetime(data_df.Date)\n",
    "data_df = data_df.set_index('Date')\n",
    "data_df = data_df[58:]\n",
    "\n",
    "data_df['day_count'] = list(range(1,len(data_df)+1))\n",
    "ydata = [i for i in data_df.Confirmé]\n",
    "xdata = data_df.day_count\n",
    "y = np.array(ydata, dtype=float)\n",
    "x = np.array(xdata, dtype=float)"
   ]
  },
  {
   "cell_type": "code",
   "execution_count": 65,
   "metadata": {},
   "outputs": [
    {
     "data": {
      "text/html": [
       "<div>\n",
       "<style scoped>\n",
       "    .dataframe tbody tr th:only-of-type {\n",
       "        vertical-align: middle;\n",
       "    }\n",
       "\n",
       "    .dataframe tbody tr th {\n",
       "        vertical-align: top;\n",
       "    }\n",
       "\n",
       "    .dataframe thead th {\n",
       "        text-align: right;\n",
       "    }\n",
       "</style>\n",
       "<table border=\"1\" class=\"dataframe\">\n",
       "  <thead>\n",
       "    <tr style=\"text-align: right;\">\n",
       "      <th></th>\n",
       "      <th>Confirmé</th>\n",
       "      <th>mor</th>\n",
       "      <th>day_count</th>\n",
       "    </tr>\n",
       "  </thead>\n",
       "  <tbody>\n",
       "    <tr>\n",
       "      <th>count</th>\n",
       "      <td>121.000000</td>\n",
       "      <td>121.000000</td>\n",
       "      <td>121.000000</td>\n",
       "    </tr>\n",
       "    <tr>\n",
       "      <th>mean</th>\n",
       "      <td>56.661157</td>\n",
       "      <td>8.628099</td>\n",
       "      <td>61.000000</td>\n",
       "    </tr>\n",
       "    <tr>\n",
       "      <th>std</th>\n",
       "      <td>97.961434</td>\n",
       "      <td>13.170758</td>\n",
       "      <td>35.073732</td>\n",
       "    </tr>\n",
       "    <tr>\n",
       "      <th>min</th>\n",
       "      <td>0.000000</td>\n",
       "      <td>0.000000</td>\n",
       "      <td>1.000000</td>\n",
       "    </tr>\n",
       "    <tr>\n",
       "      <th>25%</th>\n",
       "      <td>2.000000</td>\n",
       "      <td>0.000000</td>\n",
       "      <td>31.000000</td>\n",
       "    </tr>\n",
       "    <tr>\n",
       "      <th>50%</th>\n",
       "      <td>18.000000</td>\n",
       "      <td>2.000000</td>\n",
       "      <td>61.000000</td>\n",
       "    </tr>\n",
       "    <tr>\n",
       "      <th>75%</th>\n",
       "      <td>55.000000</td>\n",
       "      <td>13.000000</td>\n",
       "      <td>91.000000</td>\n",
       "    </tr>\n",
       "    <tr>\n",
       "      <th>max</th>\n",
       "      <td>484.000000</td>\n",
       "      <td>55.000000</td>\n",
       "      <td>121.000000</td>\n",
       "    </tr>\n",
       "  </tbody>\n",
       "</table>\n",
       "</div>"
      ],
      "text/plain": [
       "         Confirmé         mor   day_count\n",
       "count  121.000000  121.000000  121.000000\n",
       "mean    56.661157    8.628099   61.000000\n",
       "std     97.961434   13.170758   35.073732\n",
       "min      0.000000    0.000000    1.000000\n",
       "25%      2.000000    0.000000   31.000000\n",
       "50%     18.000000    2.000000   61.000000\n",
       "75%     55.000000   13.000000   91.000000\n",
       "max    484.000000   55.000000  121.000000"
      ]
     },
     "execution_count": 65,
     "metadata": {},
     "output_type": "execute_result"
    }
   ],
   "source": [
    "data_df.describe()"
   ]
  },
  {
   "cell_type": "code",
   "execution_count": 4,
   "metadata": {},
   "outputs": [
    {
     "data": {
      "text/plain": [
       "Timestamp('2020-07-18 00:00:00')"
      ]
     },
     "execution_count": 4,
     "metadata": {},
     "output_type": "execute_result"
    }
   ],
   "source": [
    "data_df.index[-1]"
   ]
  },
  {
   "cell_type": "code",
   "execution_count": 5,
   "metadata": {},
   "outputs": [
    {
     "data": {
      "text/plain": [
       "DatetimeIndex(['2020-07-19', '2020-07-20', '2020-07-21', '2020-07-22',\n",
       "               '2020-07-23', '2020-07-24', '2020-07-25', '2020-07-26',\n",
       "               '2020-07-27', '2020-07-28'],\n",
       "              dtype='datetime64[ns]', freq=None)"
      ]
     },
     "execution_count": 5,
     "metadata": {},
     "output_type": "execute_result"
    }
   ],
   "source": [
    "add_dates = [data_df.index[-1] + DateOffset(day=x)for x in range(18,29)]\n",
    "future_dates = pd.DataFrame(index=add_dates[1:])\n",
    "future_dates['day_count'] = np.linspace(x[-1],112,10)\n",
    "future_dates.index"
   ]
  },
  {
   "cell_type": "code",
   "execution_count": 46,
   "metadata": {},
   "outputs": [
    {
     "name": "stdout",
     "output_type": "stream",
     "text": [
      "(121, 1)\n",
      "[[121.]\n",
      " [122.]\n",
      " [123.]\n",
      " [124.]\n",
      " [125.]\n",
      " [126.]\n",
      " [127.]\n",
      " [128.]\n",
      " [129.]\n",
      " [130.]]\n"
     ]
    }
   ],
   "source": [
    "x_poly = x[:,np.newaxis]\n",
    "print(x_poly.shape)\n",
    "x_pred = np.linspace(x[-1],130,10)\n",
    "x_pred = x_pred[:,np.newaxis]\n",
    "print(x_pred)"
   ]
  },
  {
   "cell_type": "code",
   "execution_count": 47,
   "metadata": {},
   "outputs": [
    {
     "data": {
      "text/plain": [
       "0.8896663389155296"
      ]
     },
     "execution_count": 47,
     "metadata": {},
     "output_type": "execute_result"
    }
   ],
   "source": [
    "poly_reg = PolynomialFeatures(degree=10)\n",
    "X_poly = poly_reg.fit_transform(x_poly)\n",
    "X_pred = poly_reg.fit_transform(x_pred)\n",
    "model = LinearRegression()\n",
    "model.fit(X_poly, y)\n",
    "model.score(X_poly,y)"
   ]
  },
  {
   "cell_type": "code",
   "execution_count": 56,
   "metadata": {},
   "outputs": [
    {
     "data": {
      "text/plain": [
       "[<matplotlib.lines.Line2D at 0x7fcf5f8bead0>]"
      ]
     },
     "execution_count": 56,
     "metadata": {},
     "output_type": "execute_result"
    },
    {
     "data": {
      "image/png": "[encoded data removed]",
      "text/plain": [
       "<Figure size 1224x504 with 1 Axes>"
      ]
     },
     "metadata": {},
     "output_type": "display_data"
    }
   ],
   "source": [
    "plt.figure(figsize=(17,7))\n",
    "plt.scatter(data_df.index,y)\n",
    "plt.plot(data_df.index,model.predict(X_poly),color='red')\n",
    "plt.plot(future_dates.index,model.predict(X_pred))"
   ]
  },
  {
   "cell_type": "code",
   "execution_count": null,
   "metadata": {},
   "outputs": [],
   "source": []
  }
 ],
 "metadata": {
  "kernelspec": {
   "display_name": "Python 3",
   "language": "python",
   "name": "python3"
  },
  "language_info": {
   "codemirror_mode": {
    "name": "ipython",
    "version": 3
   },
   "file_extension": ".py",
   "mimetype": "text/x-python",
   "name": "python",
   "nbconvert_exporter": "python",
   "pygments_lexer": "ipython3",
   "version": "3.7.6"
  }
 },
 "nbformat": 4,
 "nbformat_minor": 4
}
