{
 "cells": [
  {
   "cell_type": "code",
   "execution_count": 8,
   "metadata": {},
   "outputs": [],
   "source": [
    "import numpy as np\n",
    "import matplotlib.pyplot as plt\n",
    "import pandas as pd\n",
    "from sklearn.linear_model import LinearRegression\n",
    "from sklearn.preprocessing import PolynomialFeatures\n",
    "from pandas.tseries.offsets import DateOffset\n",
    "import time"
   ]
  },
  {
   "cell_type": "code",
   "execution_count": 58,
   "metadata": {},
   "outputs": [],
   "source": [
    "data = pd.read_csv(\"full_grouped.csv\")\n",
    "data.rename(columns={'New cases':'New_cases'},inplace=True)\n",
    "data.rename(columns={'New deaths':'New_deaths'},inplace=True)\n",
    "data.rename(columns={'New recovered':'New_recovered'},inplace=True)\n",
    "\n",
    "data_df = pd.DataFrame()\n",
    "data_df['Date'] = data.loc[data['Country/Region']=='Madagascar'].Date\n",
    "data_df['Confirmé'] = data.loc[data['Country/Region']=='Madagascar'].New_cases\n",
    "data_df['mor'] = data.loc[data['Country/Region']=='Madagascar'].Deaths\n",
    "data_df.Date = pd.to_datetime(data_df.Date)\n",
    "data_df = data_df.set_index('Date')\n",
    "data_df = data_df[58:]\n",
    "\n",
    "data_df['day_count'] = list(range(1,len(data_df)+1))\n",
    "ydata = [i for i in data_df.Confirmé]\n",
    "xdata = data_df.day_count\n",
    "y = np.array(ydata, dtype=float)\n",
    "x = np.array(xdata, dtype=float)"
   ]
  },
  {
   "cell_type": "code",
   "execution_count": 59,
   "metadata": {},
   "outputs": [
    {
     "data": {
      "text/html": [
       "<div>\n",
       "<style scoped>\n",
       "    .dataframe tbody tr th:only-of-type {\n",
       "        vertical-align: middle;\n",
       "    }\n",
       "\n",
       "    .dataframe tbody tr th {\n",
       "        vertical-align: top;\n",
       "    }\n",
       "\n",
       "    .dataframe thead th {\n",
       "        text-align: right;\n",
       "    }\n",
       "</style>\n",
       "<table border=\"1\" class=\"dataframe\">\n",
       "  <thead>\n",
       "    <tr style=\"text-align: right;\">\n",
       "      <th></th>\n",
       "      <th>Confirmé</th>\n",
       "      <th>mor</th>\n",
       "      <th>day_count</th>\n",
       "    </tr>\n",
       "    <tr>\n",
       "      <th>Date</th>\n",
       "      <th></th>\n",
       "      <th></th>\n",
       "      <th></th>\n",
       "    </tr>\n",
       "  </thead>\n",
       "  <tbody>\n",
       "    <tr>\n",
       "      <th>2020-03-20</th>\n",
       "      <td>3</td>\n",
       "      <td>0</td>\n",
       "      <td>1</td>\n",
       "    </tr>\n",
       "    <tr>\n",
       "      <th>2020-03-21</th>\n",
       "      <td>0</td>\n",
       "      <td>0</td>\n",
       "      <td>2</td>\n",
       "    </tr>\n",
       "    <tr>\n",
       "      <th>2020-03-22</th>\n",
       "      <td>0</td>\n",
       "      <td>0</td>\n",
       "      <td>3</td>\n",
       "    </tr>\n",
       "    <tr>\n",
       "      <th>2020-03-23</th>\n",
       "      <td>9</td>\n",
       "      <td>0</td>\n",
       "      <td>4</td>\n",
       "    </tr>\n",
       "    <tr>\n",
       "      <th>2020-03-24</th>\n",
       "      <td>5</td>\n",
       "      <td>0</td>\n",
       "      <td>5</td>\n",
       "    </tr>\n",
       "    <tr>\n",
       "      <th>...</th>\n",
       "      <td>...</td>\n",
       "      <td>...</td>\n",
       "      <td>...</td>\n",
       "    </tr>\n",
       "    <tr>\n",
       "      <th>2020-06-18</th>\n",
       "      <td>25</td>\n",
       "      <td>13</td>\n",
       "      <td>91</td>\n",
       "    </tr>\n",
       "    <tr>\n",
       "      <th>2020-06-19</th>\n",
       "      <td>40</td>\n",
       "      <td>13</td>\n",
       "      <td>92</td>\n",
       "    </tr>\n",
       "    <tr>\n",
       "      <th>2020-06-20</th>\n",
       "      <td>60</td>\n",
       "      <td>13</td>\n",
       "      <td>93</td>\n",
       "    </tr>\n",
       "    <tr>\n",
       "      <th>2020-06-21</th>\n",
       "      <td>93</td>\n",
       "      <td>14</td>\n",
       "      <td>94</td>\n",
       "    </tr>\n",
       "    <tr>\n",
       "      <th>2020-06-22</th>\n",
       "      <td>44</td>\n",
       "      <td>15</td>\n",
       "      <td>95</td>\n",
       "    </tr>\n",
       "  </tbody>\n",
       "</table>\n",
       "<p>95 rows × 3 columns</p>\n",
       "</div>"
      ],
      "text/plain": [
       "            Confirmé  mor  day_count\n",
       "Date                                \n",
       "2020-03-20         3    0          1\n",
       "2020-03-21         0    0          2\n",
       "2020-03-22         0    0          3\n",
       "2020-03-23         9    0          4\n",
       "2020-03-24         5    0          5\n",
       "...              ...  ...        ...\n",
       "2020-06-18        25   13         91\n",
       "2020-06-19        40   13         92\n",
       "2020-06-20        60   13         93\n",
       "2020-06-21        93   14         94\n",
       "2020-06-22        44   15         95\n",
       "\n",
       "[95 rows x 3 columns]"
      ]
     },
     "execution_count": 59,
     "metadata": {},
     "output_type": "execute_result"
    }
   ],
   "source": [
    "data_df"
   ]
  },
  {
   "cell_type": "code",
   "execution_count": 60,
   "metadata": {},
   "outputs": [
    {
     "data": {
      "text/plain": [
       "DatetimeIndex(['2020-06-23', '2020-06-24', '2020-06-25', '2020-06-26',\n",
       "               '2020-06-27', '2020-06-28', '2020-06-29', '2020-06-30',\n",
       "               '2020-06-30', '2020-06-30'],\n",
       "              dtype='datetime64[ns]', freq=None)"
      ]
     },
     "execution_count": 60,
     "metadata": {},
     "output_type": "execute_result"
    }
   ],
   "source": [
    "add_dates = [data_df.index[-1] + DateOffset(day=x)for x in range(22,33)]\n",
    "future_dates = pd.DataFrame(index=add_dates[1:])\n",
    "future_dates['day_count'] = np.linspace(x[-1],107,10)\n",
    "future_dates.index"
   ]
  },
  {
   "cell_type": "code",
   "execution_count": 61,
   "metadata": {},
   "outputs": [
    {
     "name": "stdout",
     "output_type": "stream",
     "text": [
      "(95, 1)\n",
      "[[ 95.        ]\n",
      " [ 96.33333333]\n",
      " [ 97.66666667]\n",
      " [ 99.        ]\n",
      " [100.33333333]\n",
      " [101.66666667]\n",
      " [103.        ]\n",
      " [104.33333333]\n",
      " [105.66666667]\n",
      " [107.        ]]\n"
     ]
    }
   ],
   "source": [
    "x_poly = x[:,np.newaxis]\n",
    "print(x_poly.shape)\n",
    "x_pred = np.linspace(x[-1],107,10)\n",
    "x_pred = x_pred[:,np.newaxis]\n",
    "print(x_pred)"
   ]
  },
  {
   "cell_type": "code",
   "execution_count": 63,
   "metadata": {},
   "outputs": [
    {
     "data": {
      "text/plain": [
       "0.6955217636628981"
      ]
     },
     "execution_count": 63,
     "metadata": {},
     "output_type": "execute_result"
    }
   ],
   "source": [
    "poly_reg = PolynomialFeatures(degree=6)\n",
    "X_poly = poly_reg.fit_transform(x_poly)\n",
    "X_pred = poly_reg.fit_transform(x_pred)\n",
    "model = LinearRegression()\n",
    "model.fit(X_poly, y)\n",
    "model.score(X_poly,y)"
   ]
  },
  {
   "cell_type": "code",
   "execution_count": 64,
   "metadata": {},
   "outputs": [
    {
     "data": {
      "text/plain": [
       "[<matplotlib.lines.Line2D at 0x7fdfe852d050>]"
      ]
     },
     "execution_count": 64,
     "metadata": {},
     "output_type": "execute_result"
    },
    {
     "data": {
      "image/png": "[encoded data removed]",
      "text/plain": [
       "<Figure size 1224x504 with 1 Axes>"
      ]
     },
     "metadata": {
      "needs_background": "light"
     },
     "output_type": "display_data"
    }
   ],
   "source": [
    "plt.figure(figsize=(17,7))\n",
    "plt.bar(data_df.index,y)\n",
    "plt.plot(data_df.index,model.predict(X_poly),color='red')\n",
    "plt.plot(future_dates.index,model.predict(X_pred))"
   ]
  }
 ],
 "metadata": {
  "kernelspec": {
   "display_name": "Python 3",
   "language": "python",
   "name": "python3"
  },
  "language_info": {
   "codemirror_mode": {
    "name": "ipython",
    "version": 3
   },
   "file_extension": ".py",
   "mimetype": "text/x-python",
   "name": "python",
   "nbconvert_exporter": "python",
   "pygments_lexer": "ipython3",
   "version": "3.7.6"
  }
 },
 "nbformat": 4,
 "nbformat_minor": 4
}
